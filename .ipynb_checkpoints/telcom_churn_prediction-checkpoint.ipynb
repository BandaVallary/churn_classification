{
 "cells": [
  {
   "cell_type": "markdown",
   "id": "da55d92b-76a7-4bfd-a281-a17470c0d139",
   "metadata": {},
   "source": [
    "## 1. Business Understanding"
   ]
  },
  {
   "cell_type": "markdown",
   "id": "23c2a998-6ba0-4d70-9c68-13a035c42b69",
   "metadata": {},
   "source": [
    "## 2. Data Understanding"
   ]
  },
  {
   "cell_type": "markdown",
   "id": "68f5f719-d71f-4507-b824-a31b90143b58",
   "metadata": {},
   "source": [
    "## 3. Data Preparation"
   ]
  },
  {
   "cell_type": "markdown",
   "id": "d1d5b5a3-7248-4c73-94df-f0bc852281d4",
   "metadata": {},
   "source": [
    "## 4. Exploratory Data Analysis "
   ]
  },
  {
   "cell_type": "markdown",
   "id": "59c5017a-eaed-4d43-a734-8115f4f6f4c4",
   "metadata": {},
   "source": [
    "## 5. Data Modelling"
   ]
  },
  {
   "cell_type": "markdown",
   "id": "01b2627c-aa94-4170-a8f8-84b01b35071a",
   "metadata": {},
   "source": [
    "## 6. Evaluation"
   ]
  },
  {
   "cell_type": "markdown",
   "id": "75acbb13-cf50-4e1c-ac7e-ad94030c72a6",
   "metadata": {},
   "source": [
    "## 7. Findings & Conclusions"
   ]
  },
  {
   "cell_type": "markdown",
   "id": "26974a8a-42fd-40d4-852f-475f78d6136c",
   "metadata": {},
   "source": [
    "## 8. Recommendations"
   ]
  },
  {
   "cell_type": "code",
   "execution_count": null,
   "id": "eacd3855-d742-4b3e-933a-bd98f3af3145",
   "metadata": {},
   "outputs": [],
   "source": []
  }
 ],
 "metadata": {
  "kernelspec": {
   "display_name": "Python (learn-env)",
   "language": "python",
   "name": "learn-env"
  },
  "language_info": {
   "codemirror_mode": {
    "name": "ipython",
    "version": 3
   },
   "file_extension": ".py",
   "mimetype": "text/x-python",
   "name": "python",
   "nbconvert_exporter": "python",
   "pygments_lexer": "ipython3",
   "version": "3.11.9"
  }
 },
 "nbformat": 4,
 "nbformat_minor": 5
}
